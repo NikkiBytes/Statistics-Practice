{
 "cells": [
  {
   "cell_type": "markdown",
   "metadata": {
    "collapsed": true,
    "pycharm": {
     "name": "#%% md\n"
    }
   },
   "source": [
    "## Quartile\n",
    "\n",
    "The quartiles of an ordered dataset are the 3 points that split the dataset into 4 \n",
    "equall groups. \n",
    "\n",
    "1. **Q1**: The first quartile is the middle number between the smallest\n",
    "number in the dataset and its median.  \n",
    "2. **Q2**: The second quartile is the median (50th percentile) of the dataset.  \n",
    "3. **Q3**: The third quartile is the middle number between a datasets median and its \n",
    "largest number.  \n",
    "\n",
    "### Computing the First and Third Quartile  \n",
    "\n",
    "Split the data into two halves, lower and upper half:  \n",
    "* if the length of the data points is odd, **do not** include \n",
    "the median in either half.  \n",
    "* if the length of the data points is even, split the dataset exactly in half.  \n",
    "\n",
    "The value of the first quartile (**Q1**) is the median of the lower half, and the value of the \n",
    "third quartile (**Q3**) is the median of the upper half.  "
   ]
  },
  {
   "cell_type": "code",
   "execution_count": null,
   "outputs": [],
   "source": [
    "len_x = int(input())\n",
    "list_x = list(map(int, input().split()))\n",
    "list_x=sorted(list_x)\n",
    "mid = len_x // 2\n",
    "\n",
    "\n",
    "def median(x):\n",
    "    middle = len(x) // 2\n",
    "    if len(x) % 2 == 0:\n",
    "        return (x[middle-1] + x[middle])/2\n",
    "    else:\n",
    "        return x[middle]\n",
    "\n",
    "# odd case\n",
    "if len_x%2 == 0:\n",
    "    lower, upper = list_x[:mid], list_x[mid:]\n",
    "else:\n",
    "    lower, upper = list_x[:mid], list_x[mid+1:]\n",
    "   \n",
    "q1=median(lower)\n",
    "q2 =median(list_x)\n",
    "q3=median(upper)\n",
    "print(int(q1))\n",
    "print(int(q2))\n",
    "print(int(q3))"
   ],
   "metadata": {
    "collapsed": false,
    "pycharm": {
     "name": "#%% \n"
    }
   }
  },
  {
   "cell_type": "markdown",
   "source": [
    "## Interquartile Range  \n",
    "The interquartile range of an array is the difference between its first **Q1** \n",
    "and third **Q3** quartiles. (*Q3 - Q1*)  \n",
    "\n",
    "\n",
    "For more information and ways to calculate check out the [wiki](https://en.wikipedia.org/wiki/Quartile#Method_1) page!"
   ],
   "metadata": {
    "collapsed": false,
    "pycharm": {
     "name": "#%% md\n"
    }
   }
  },
  {
   "cell_type": "code",
   "execution_count": null,
   "outputs": [],
   "source": [
    "ir = q3-q1"
   ],
   "metadata": {
    "collapsed": false,
    "pycharm": {
     "name": "#%% \n"
    }
   }
  },
  {
   "cell_type": "markdown",
   "source": [
    "## Standard Deviation  \n",
    "\n",
    "Important terms to know  \n",
    "\n",
    "**Expected Values**: The expected value of a discrete random variable, *X*, can essentially be thought \n",
    "of as the mean, u. Also it may be referred to as the mathematical expectation of X .  \n",
    "    \n",
    "**Variance**: This is the average magnitude of fluctuations of X from its expected value u. Also this can be thought as the \n",
    "expectation of a random variables squared deviation from its mean. \n",
    "\n",
    "**Standard Deviation**: The standard deviation quantifies the amount of variation in a set of data values.  \n"
   ],
   "metadata": {
    "collapsed": false,
    "pycharm": {
     "name": "#%% md\n"
    }
   }
  },
  {
   "cell_type": "code",
   "execution_count": null,
   "outputs": [],
   "source": [
    "n = int(input())\n",
    "data = list(map(int, input().split()))\n",
    "data.sort()\n",
    "\n",
    "\n",
    "mean = sum(data) // n\n",
    "variance = sum([((x - mean) ** 2) for x in data]) / n\n",
    "sd = variance ** 0.5\n",
    "\n",
    "print(\"{0:0.1f}\".format(sd))"
   ],
   "metadata": {
    "collapsed": false,
    "pycharm": {
     "name": "#%% \n"
    }
   }
  },
  {
   "cell_type": "markdown",
   "source": [
    "## Probability Fundamentals  \n",
    "\n",
    "In probability theory, an experiment is any procedure that can be infinitely repeated and has a well-defined \n",
    "set of possible outcomes, known as the sample space, S. An event is defined to be a set of outcomes of an experiment\n",
    "to which a probability (numerical value) is assigned.  \n",
    "\n",
    "\n",
    "Fundamental Rules of Probability:  \n",
    "1. Any probability, P(A), is a number between 0 and 1. (i.e, 0 <= P(A) <= 1)  \n",
    "2. The probability of the sample space, S, is 1 (i.e., P(S) =1).  \n",
    "3. P(A') = 1 - P(A)  \n",
    "\n",
    "\n",
    "A **compound event** is a combination of 2 or more simple events. If A and B are simple events,\n",
    "then A U B denotes the occurrence of either A or B.   \n",
    "\n",
    "A **mutually exclusive** or disjoint event is when A and B have no events in common. Because \n",
    "disjoint probabilities have no common events, the probability of the union of disjoint events is the sum\n",
    "of the events' individual probabilities.   \n",
    "A and B are said to be collectively exhaustive if their union covers all events in the sample space.  \n",
    "\n",
    "Fundamental rule: if 2 events, A and B, are disjoint, then the probability of either event is the sum \n",
    "of the probabilities of the 2 events. P(A or B) = P(A) + P(B)    \n",
    "\n",
    "If the outcome of the first event (A) has no impact on the second event (B), then they are considered to be \n",
    "independent.   \n",
    "Fundamental rule: multiplication rule - if two events, A and B, are independent, then the probability of both events\n",
    "is the product of the probabilities of each event. P(A and B) = P(A) x P(B).  \n",
    "The chance of all events occuring in a sequence of events is called the intersection of those events. "
   ],
   "metadata": {
    "collapsed": false,
    "pycharm": {
     "name": "#%% md\n"
    }
   }
  },
  {
   "cell_type": "code",
   "execution_count": null,
   "outputs": [],
   "source": [
    "# example code here"
   ],
   "metadata": {
    "collapsed": false,
    "pycharm": {
     "name": "#%% \n"
    }
   }
  },
  {
   "cell_type": "markdown",
   "source": [
    "## Pearson Correlation Coeefficient \n",
    "\n",
    "Covariance: this is a measure of how two random variables change together, also considered the strength\n",
    "of their correlation.  \n",
    "\n",
    "Pearson Correlation Coefficient  \n"
   ],
   "metadata": {
    "collapsed": false,
    "pycharm": {
     "name": "#%% md\n"
    }
   }
  },
  {
   "cell_type": "code",
   "execution_count": null,
   "outputs": [],
   "source": [
    "N = int(input())\n",
    "X = list(map(float,input().strip().split()))\n",
    "Y = list(map(float,input().strip().split()))\n",
    "\n",
    "mu_x = sum(X) / N\n",
    "mu_y = sum(Y) / N\n",
    "\n",
    "stdv_x = (sum([(i - mu_x)**2 for i in X]) / N)**0.5\n",
    "stdv_y = (sum([(i - mu_y)**2 for i in Y]) / N)**0.5\n",
    "\n",
    "\n",
    "covariance = sum([(X[i] - mu_x) * (Y[i] -mu_y) for i in range(N)])\n",
    "\n",
    "correlation_coefficient = covariance / (N * stdv_x * stdv_y)\n",
    "\n",
    "print(round(correlation_coefficient,3))"
   ],
   "metadata": {
    "collapsed": false,
    "pycharm": {
     "name": "#%% \n"
    }
   }
  },
  {
   "cell_type": "markdown",
   "source": [
    "## Spearman's Rank Correlation Coefficient  "
   ],
   "metadata": {
    "collapsed": false,
    "pycharm": {
     "name": "#%% md\n"
    }
   }
  },
  {
   "cell_type": "code",
   "execution_count": null,
   "outputs": [],
   "source": [
    "def get_rank(X, n):\n",
    "    x_rank = dict((x, i+1) for i, x in enumerate(sorted(set(X))))\n",
    "    #print(x_rank)\n",
    "    return [x_rank[x] for x in X]\n",
    "    \n",
    "n = int(input())\n",
    "X = list(map(float, input().split()))\n",
    "Y = list(map(float, input().split()))\n",
    "\n",
    "rx = get_rank(X, n)\n",
    "ry = get_rank(Y, n)\n",
    "\n",
    "d = [(rx[i] -ry[i])**2 for i in range(n)]\n",
    "rxy = 1 - (6 * sum(d)) / (n * (n*n - 1))\n",
    "\n",
    "print('%.3f' % rxy)"
   ],
   "metadata": {
    "collapsed": false,
    "pycharm": {
     "name": "#%% \n"
    }
   }
  },
  {
   "cell_type": "markdown",
   "source": [
    "## Least Square Regression Line  \n",
    "If our data shows a linear relationship between  and , then the straight line which best describes the relationship is the regression line. The regression line is given by Y^ = a + bX.  "
   ],
   "metadata": {
    "collapsed": false,
    "pycharm": {
     "name": "#%% md\n"
    }
   }
  },
  {
   "cell_type": "code",
   "source": [
    "n = 5\n",
    "xy = [map(int, input().split()) for _ in range(n)]\n",
    "sx, sy, sx2, sxy = map(sum, zip(*[(x, y, x**2, x * y) for x, y in xy]))\n",
    "b = (n * sxy - sx * sy) / (n * sx2 - sx**2)\n",
    "a = (sy / n) - b * (sx / n)\n",
    "print('{:.3f}'.format(a + b * 80))"
   ],
   "metadata": {
    "collapsed": false,
    "pycharm": {
     "name": "#%% \n"
    }
   },
   "execution_count": null,
   "outputs": []
  },
  {
   "cell_type": "markdown",
   "source": [
    "## Multiple Linear Regression  "
   ],
   "metadata": {
    "collapsed": false,
    "pycharm": {
     "name": "#%% md\n"
    }
   }
  },
  {
   "cell_type": "code",
   "execution_count": null,
   "outputs": [],
   "source": [
    "#import data\n",
    "import numpy as np\n",
    "m,n = [int(i) for i in input().strip().split(' ')]\n",
    "X = []\n",
    "Y = []\n",
    "for i in range(n):\n",
    "    data = input().strip().split(' ')\n",
    "    X.append(data[:m])\n",
    "    Y.append(data[m:])\n",
    "q = int(input().strip())\n",
    "X_new = []\n",
    "for x in range(q):\n",
    "    X_new.append(input().strip().split(' '))\n",
    "X = np.array(X,float)\n",
    "Y = np.array(Y,float)\n",
    "X_new = np.array(X_new,float)\n",
    "\n",
    "#center\n",
    "X_R = X-np.mean(X,axis=0)\n",
    "Y_R = Y-np.mean(Y)\n",
    "\n",
    "#calculate beta\n",
    "beta = np.dot(np.linalg.inv(np.dot(X_R.T,X_R)),np.dot(X_R.T,Y_R))\n",
    "\n",
    "#predict\n",
    "X_new_R = X_new-np.mean(X,axis=0)\n",
    "Y_new_R = np.dot(X_new_R,beta)\n",
    "Y_new = Y_new_R + np.mean(Y)\n",
    "\n",
    "#print\n",
    "for i in Y_new:\n",
    "    print(round(float(i),2))\n",
    "    "
   ],
   "metadata": {
    "collapsed": false,
    "pycharm": {
     "name": "#%% \n"
    }
   }
  },
  {
   "cell_type": "code",
   "execution_count": null,
   "outputs": [],
   "source": [],
   "metadata": {
    "collapsed": false,
    "pycharm": {
     "name": "#%% md \n"
    }
   }
  }
 ],
 "metadata": {
  "kernelspec": {
   "display_name": "Python 3",
   "language": "python",
   "name": "python3"
  },
  "language_info": {
   "codemirror_mode": {
    "name": "ipython",
    "version": 2
   },
   "file_extension": ".py",
   "mimetype": "text/x-python",
   "name": "python",
   "nbconvert_exporter": "python",
   "pygments_lexer": "ipython2",
   "version": "2.7.6"
  },
  "pycharm": {
   "stem_cell": {
    "cell_type": "raw",
    "source": [],
    "metadata": {
     "collapsed": false
    }
   }
  }
 },
 "nbformat": 4,
 "nbformat_minor": 0
}