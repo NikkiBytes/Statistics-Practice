{
 "cells": [
  {
   "cell_type": "markdown",
   "source": [
    "# Student's t-test\r\n",
    "\r\n",
    "t-test: any statistical hypothesis test in which the test statistic follows a Student's t-distribution under the null hypothesis. \r\n",
    "\r\n",
    "Commonly applied when the test statistic would follow a normal dist., if the value of a scaling term in the test statistic were known.   \r\n",
    "  \r\n",
    "When the scaling term is unknown and is replaced by an estimate based on the data, the test stats (under certain cond) follows a Student's t dist.  \r\n",
    "   \r\n",
    "\r\n",
    "The t-test can be used, for example, to determine if the means of two sets of data are significantly different from each other.  \r\n",
    "\r\n",
    "---\r\n",
    "**Students t-distribution(dist)** is any member of a family of continuous probability distributions that arise when estimating the mean of a normally-distributred population in situations where the sample size is small and the populations standard deviation is unknown. \r\n",
    "\r\n",
    "---  \r\n",
    "  \r\n",
    "\r\n",
    "     \r\n",
    "The test works by checking the means from two samples to see if they are significantly different from each other. It does this by calculating the standard error in the difference between means, which can be interpreted to see how likely the difference is, if the two samples have the same mean (the null hypothesis).  \r\n"
   ],
   "metadata": {}
  },
  {
   "cell_type": "markdown",
   "source": [
    "## Student’s t-Test for Independent Samples\r\n",
    "The most common case. Two independent samples are compared.  \r\n",
    "  \r\n",
    "**Calculation:**  \r\n",
    "``` t = observed difference between sample means / standard error of the difference between the means```    \r\n",
    "```t = (mean(X1) - mean(X2)) / sed``` \r\n",
    "\r\n",
    "\r\n",
    "Where X1 and X2 are the first and second data samples and sed is the standard error of the difference between the means.\r\n",
    "\r\n",
    "The standard error of the difference between the means can be calculated as follows:  \r\n",
    "```sed = sqrt(se1^2 + se2^2)```  \r\n",
    "Where se1 and se2 are the standard errors for the first and second datasets.\r\n",
    "\r\n",
    "The standard error of a sample can be calculated as:  \r\n",
    "```se = std / sqrt(n)```  \r\n",
    "\r\n",
    "Where se is the standard error of the sample, std is the sample standard deviation, and n is the number of observations in the sample.\r\n",
    "  \r\n",
    "These calculations make the following assumptions:\r\n",
    "  \r\n",
    "The samples are drawn from a Gaussian distribution.\r\n",
    "The size of each sample is approximately equal.\r\n",
    "The samples have the same variance."
   ],
   "metadata": {}
  },
  {
   "cell_type": "markdown",
   "source": [
    "## References  \r\n",
    "https://machinelearningmastery.com/\r\n",
    "how-to-code-the-students-t-test-from-scratch-in-python/\r\n",
    "\r\n",
    "https://www.wikiwand.com/en/Student%27s_t-distribution\r\n",
    "\r\n",
    "https://www.wikiwand.com/en/Student%27s_t-test\r\n",
    "\r\n",
    "https://www.reneshbedre.com/blog/ttest.html\r\n",
    "\r\n",
    "https://machinelearningmastery.com/how-to-code-the-students-t-test-from-scratch-in-python/\r\n"
   ],
   "metadata": {}
  }
 ],
 "metadata": {
  "orig_nbformat": 4,
  "language_info": {
   "name": "python"
  }
 },
 "nbformat": 4,
 "nbformat_minor": 2
}