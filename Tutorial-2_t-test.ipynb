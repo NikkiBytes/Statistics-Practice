{
 "cells": [
  {
   "cell_type": "markdown",
   "source": [
    "# Student's t-test\r\n",
    "\r\n",
    "t-test: any statistical hypothesis test in which the test statistic follows a Student's t-distribution under the null hypothesis. \r\n",
    "\r\n",
    "Commonly applied when the test statistic would follow a normal dist., if the value of a scaling term in the test statistic were known.   \r\n",
    "  \r\n",
    "When the scaling term is unknown and is replaced by an estimate based on the data, the test stats (under certain cond) follows a Student's t dist.  \r\n",
    "   \r\n",
    "\r\n",
    "The t-test can be used, for example, to determine if the means of two sets of data are significantly different from each other.  \r\n",
    "\r\n",
    "---\r\n",
    "**Students t-distribution(dist)** is any member of a family of continuous probability distributions that arise when estimating the mean of a normally-distributred population in situations where the sample size is small and the populations standard deviation is unknown. \r\n",
    "\r\n",
    "---"
   ],
   "metadata": {}
  }
 ],
 "metadata": {
  "orig_nbformat": 4,
  "language_info": {
   "name": "python"
  }
 },
 "nbformat": 4,
 "nbformat_minor": 2
}