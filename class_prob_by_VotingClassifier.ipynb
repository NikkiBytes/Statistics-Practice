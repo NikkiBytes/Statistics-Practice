{
 "cells": [
  {
   "cell_type": "code",
   "execution_count": 2,
   "source": [
    "print(__doc__)\r\n",
    "\r\n",
    "import numpy as np\r\n",
    "import matplotlib.pyplot as plt\r\n",
    "\r\n",
    "from sklearn.linear_model import LogisticRegression\r\n",
    "from sklearn.naive_bayes import GaussianNB\r\n",
    "from sklearn.ensemble import RandomForestClassifier\r\n",
    "from sklearn.ensemble import VotingClassifier\r\n",
    "\r\n",
    "clf1 = LogisticRegression(max_iter=1000, random_state=123)\r\n",
    "clf2 = RandomForestClassifier(n_estimators=100, random_state=123)\r\n",
    "clf3 = GaussianNB()\r\n",
    "X = np.array([[-1.0, -1.0], [-1.2, -1.4], [-3.4, -2.2], [1.1, 1.2]])\r\n",
    "y = np.array([1, 1, 2, 2])\r\n",
    "\r\n",
    "eclf = VotingClassifier(estimators=[('lr', clf1), ('rf', clf2), ('gnb', clf3)],\r\n",
    "                        voting='soft',\r\n",
    "                        weights=[1, 1, 5])\r\n",
    "\r\n",
    "# predict class probabilities for all classifiers\r\n",
    "probas = [c.fit(X, y).predict_proba(X) for c in (clf1, clf2, clf3, eclf)]\r\n",
    "\r\n",
    "# get class probabilities for the first sample in the dataset\r\n",
    "class1_1 = [pr[0, 0] for pr in probas]\r\n",
    "class2_1 = [pr[0, 1] for pr in probas]\r\n",
    "\r\n",
    "\r\n",
    "# plotting\r\n",
    "\r\n",
    "N = 4  # number of groups\r\n",
    "ind = np.arange(N)  # group positions\r\n",
    "width = 0.35  # bar width\r\n",
    "\r\n",
    "fig, ax = plt.subplots()\r\n",
    "\r\n",
    "# bars for classifier 1-3\r\n",
    "p1 = ax.bar(ind, np.hstack(([class1_1[:-1], [0]])), width,\r\n",
    "            color='green', edgecolor='k')\r\n",
    "p2 = ax.bar(ind + width, np.hstack(([class2_1[:-1], [0]])), width,\r\n",
    "            color='lightgreen', edgecolor='k')\r\n",
    "\r\n",
    "# bars for VotingClassifier\r\n",
    "p3 = ax.bar(ind, [0, 0, 0, class1_1[-1]], width,\r\n",
    "            color='blue', edgecolor='k')\r\n",
    "p4 = ax.bar(ind + width, [0, 0, 0, class2_1[-1]], width,\r\n",
    "            color='steelblue', edgecolor='k')\r\n",
    "\r\n",
    "# plot annotations\r\n",
    "plt.axvline(2.8, color='k', linestyle='dashed')\r\n",
    "ax.set_xticks(ind + width)\r\n",
    "ax.set_xticklabels(['LogisticRegression\\nweight 1',\r\n",
    "                    'GaussianNB\\nweight 1',\r\n",
    "                    'RandomForestClassifier\\nweight 5',\r\n",
    "                    'VotingClassifier\\n(average probabilities)'],\r\n",
    "                   rotation=40,\r\n",
    "                   ha='right')\r\n",
    "plt.ylim([0, 1])\r\n",
    "plt.title('Class probabilities for sample 1 by different classifiers')\r\n",
    "plt.legend([p1[0], p2[0]], ['class 1', 'class 2'], loc='upper left')\r\n",
    "plt.tight_layout()\r\n",
    "plt.show()"
   ],
   "outputs": [
    {
     "output_type": "stream",
     "name": "stdout",
     "text": [
      "Automatically created module for IPython interactive environment\n"
     ]
    },
    {
     "output_type": "error",
     "ename": "ModuleNotFoundError",
     "evalue": "No module named 'numpy'",
     "traceback": [
      "\u001b[1;31m---------------------------------------------------------------------------\u001b[0m",
      "\u001b[1;31mModuleNotFoundError\u001b[0m                       Traceback (most recent call last)",
      "\u001b[1;32m<ipython-input-2-6672c6be414c>\u001b[0m in \u001b[0;36m<module>\u001b[1;34m\u001b[0m\n\u001b[0;32m      1\u001b[0m \u001b[0mprint\u001b[0m\u001b[1;33m(\u001b[0m\u001b[0m__doc__\u001b[0m\u001b[1;33m)\u001b[0m\u001b[1;33m\u001b[0m\u001b[1;33m\u001b[0m\u001b[0m\n\u001b[0;32m      2\u001b[0m \u001b[1;33m\u001b[0m\u001b[0m\n\u001b[1;32m----> 3\u001b[1;33m \u001b[1;32mimport\u001b[0m \u001b[0mnumpy\u001b[0m \u001b[1;32mas\u001b[0m \u001b[0mnp\u001b[0m\u001b[1;33m\u001b[0m\u001b[1;33m\u001b[0m\u001b[0m\n\u001b[0m\u001b[0;32m      4\u001b[0m \u001b[1;32mimport\u001b[0m \u001b[0mmatplotlib\u001b[0m\u001b[1;33m.\u001b[0m\u001b[0mpyplot\u001b[0m \u001b[1;32mas\u001b[0m \u001b[0mplt\u001b[0m\u001b[1;33m\u001b[0m\u001b[1;33m\u001b[0m\u001b[0m\n\u001b[0;32m      5\u001b[0m \u001b[1;33m\u001b[0m\u001b[0m\n",
      "\u001b[1;31mModuleNotFoundError\u001b[0m: No module named 'numpy'"
     ]
    }
   ],
   "metadata": {}
  },
  {
   "cell_type": "markdown",
   "source": [
    "https://scikit-learn.org/stable/auto_examples/ensemble/plot_voting_probas.html#sphx-glr-auto-examples-ensemble-plot-voting-probas-py"
   ],
   "metadata": {}
  }
 ],
 "metadata": {
  "orig_nbformat": 4,
  "kernelspec": {
   "name": "python3",
   "display_name": "Python 3",
   "language": "python"
  },
  "language_info": {
   "name": "python",
   "version": "3.9.6",
   "mimetype": "text/x-python",
   "codemirror_mode": {
    "name": "ipython",
    "version": 3
   },
   "pygments_lexer": "ipython3",
   "nbconvert_exporter": "python",
   "file_extension": ".py"
  }
 },
 "nbformat": 4,
 "nbformat_minor": 2
}